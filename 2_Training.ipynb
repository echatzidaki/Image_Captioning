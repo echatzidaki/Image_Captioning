{
 "cells": [
  {
   "cell_type": "markdown",
   "metadata": {},
   "source": [
    "# Computer Vision Nanodegree\n",
    "\n",
    "## Project: Image Captioning\n",
    "\n",
    "---\n",
    "\n",
    "In this notebook, you will train your CNN-RNN model.  \n",
    "\n",
    "You are welcome and encouraged to try out many different architectures and hyperparameters when searching for a good model.\n",
    "\n",
    "This does have the potential to make the project quite messy!  Before submitting your project, make sure that you clean up:\n",
    "- the code you write in this notebook.  The notebook should describe how to train a single CNN-RNN architecture, corresponding to your final choice of hyperparameters.  You should structure the notebook so that the reviewer can replicate your results by running the code in this notebook.  \n",
    "- the output of the code cell in **Step 2**.  The output should show the output obtained when training the model from scratch.\n",
    "\n",
    "This notebook **will be graded**.  \n",
    "\n",
    "Feel free to use the links below to navigate the notebook:\n",
    "- [Step 1](#step1): Training Setup\n",
    "- [Step 2](#step2): Train your Model\n",
    "- [Step 3](#step3): (Optional) Validate your Model"
   ]
  },
  {
   "cell_type": "markdown",
   "metadata": {},
   "source": [
    "<a id='step1'></a>\n",
    "## Step 1: Training Setup\n",
    "\n",
    "In this step of the notebook, you will customize the training of your CNN-RNN model by specifying hyperparameters and setting other options that are important to the training procedure.  The values you set now will be used when training your model in **Step 2** below.\n",
    "\n",
    "### Task #1\n",
    "\n",
    "Begin by setting the following variables:\n",
    "- `batch_size` - the batch size of each training batch.  It is the number of image-caption pairs used to amend the model weights in each training step. \n",
    "- `vocab_threshold` - the minimum word count threshold.  Note that a larger threshold will result in a smaller vocabulary, whereas a smaller threshold will include rarer words and result in a larger vocabulary.  \n",
    "- `vocab_from_file` - a Boolean that decides whether to load the vocabulary from file. \n",
    "- `embed_size` - the dimensionality of the image and word embeddings.  \n",
    "- `hidden_size` - the number of features in the hidden state of the RNN decoder.  \n",
    "- `num_epochs` - the number of epochs to train the model.  We recommend that you set `num_epochs=3`, but feel free to increase or decrease this number as you wish.  [This paper](https://arxiv.org/pdf/1502.03044.pdf) trained a captioning model on a single state-of-the-art GPU for 3 days, but you'll soon see that you can get reasonable results in a matter of a few hours!  (_But of course, if you want your model to compete with current research, you will have to train for much longer._)\n",
    "- `save_every` - determines how often to save the model weights.  We recommend that you set `save_every=1`, to save the model weights after each epoch.  This way, after the `i`th epoch, the encoder and decoder weights will be saved in the `models/` folder as `encoder-i.pkl` and `decoder-i.pkl`, respectively.\n",
    "- `print_every` - determines how often to print the batch loss to the Jupyter notebook while training.  Note that you **will not** observe a monotonic decrease in the loss function while training - this is perfectly fine and completely expected!  You are encouraged to keep this at its default value of `100` to avoid clogging the notebook, but feel free to change it.\n",
    "- `log_file` - the name of the text file containing - for every step - how the loss and perplexity evolved during training.\n",
    "\n",
    "If you're not sure where to begin to set some of the values above, you can peruse [this paper](https://arxiv.org/pdf/1502.03044.pdf) and [this paper](https://arxiv.org/pdf/1411.4555.pdf) for useful guidance!  **To avoid spending too long on this notebook**, you are encouraged to consult these suggested research papers to obtain a strong initial guess for which hyperparameters are likely to work best.  Then, train a single model, and proceed to the next notebook (**3_Inference.ipynb**).  If you are unhappy with your performance, you can return to this notebook to tweak the hyperparameters (and/or the architecture in **model.py**) and re-train your model.\n",
    "\n",
    "### (Optional) Task #2\n",
    "\n",
    "Note that we have provided a recommended image transform `transform_train` for pre-processing the training images, but you are welcome (and encouraged!) to modify it as you wish.  When modifying this transform, keep in mind that:\n",
    "- the images in the dataset have varying heights and widths, and \n",
    "- if using a pre-trained model, you must perform the corresponding appropriate normalization.\n",
    "\n",
    "### Task #3\n",
    "\n",
    "Next, you will specify a Python list containing the learnable parameters of the model.  For instance, if you decide to make all weights in the decoder trainable, but only want to train the weights in the embedding layer of the encoder, then you should set `params` to something like:\n",
    "```\n",
    "params = list(decoder.parameters()) + list(encoder.embed.parameters()) \n",
    "```\n",
    "\n",
    "### Task #4\n",
    "\n",
    "Finally, you will select an [optimizer](http://pytorch.org/docs/master/optim.html#torch.optim.Optimizer).\n",
    "\n"
   ]
  },
    {
   "cell_type": "code",
   "execution_count": null,
   "metadata": {},
   "outputs": [],
   "source": [
    "# !pip install nltk\n",
    "# import nltk\n",
    "# nltk.download('punkt')"
   ]
  },
  {
   "cell_type": "code",
   "execution_count": 3,
   "metadata": {},
   "outputs": [
    {
     "name": "stdout",
     "output_type": "stream",
     "text": [
      "Vocabulary successfully loaded from vocab.pkl file!\n",
      "loading annotations into memory...\n"
     ]
    },
    {
     "name": "stderr",
     "output_type": "stream",
     "text": [
      "100%|██████████| 414113/414113 [01:35<00:00, 4349.65it/s]\n"
     ]
    },
    {
     "name": "stdout",
     "output_type": "stream",
     "text": [
      "Done (t=0.91s)\n",
      "creating index...\n",
      "index created!\n",
      "Obtaining caption lengths...\n"
     ]
    }
   ],
   "source": [
    "import torch\n",
    "import torch.nn as nn\n",
    "from torchvision import transforms\n",
    "import sys\n",
    "sys.path.append('/opt/cocoapi/PythonAPI')\n",
    "from pycocotools.coco import COCO\n",
    "from data_loader import get_loader\n",
    "from model import EncoderCNN, DecoderRNN\n",
    "import math\n",
    "\n",
    "# ---------------------------------------------------------------------------------------\n",
    "# Appropriate values for the Python variables below.\n",
    "batch_size = 512                    # batch size \n",
    "vocab_threshold = 4                 # minimum word count threshold\n",
    "vocab_from_file = True              # if True, load existing vocab file\n",
    "embed_size = 1024                   # dimensionality of image and word embeddings \n",
    "hidden_size = 1024                  # number of features in hidden state of the RNN decoder \n",
    "num_epochs = 8                      # number of training epochs -->bc of the instructions below\n",
    "save_every = 202                    # determines frequency of saving model weights\n",
    "print_every = 809                   # determines window for printing average loss\n",
    "log_file = 'training_log.txt'       # name of file with saved training loss and perplexity\n",
    "\n",
    "\n","weight_decay = 0 # L2 penalty\n",
    "# ---------------------------------------------------------------------------------------\n",
    "\n",
	"# Amend the image transform below.\n",
	"transform_train = transforms.Compose([ \n",
    "    transforms.Resize(256),                          # smaller edge of image resized to 256\n",
    "    transforms.RandomCrop(224),                      # get 224x224 crop from random location\n",
    "    transforms.RandomHorizontalFlip(),               # horizontally flip image with probability=0.5\n",
    "    transforms.ToTensor(),                           # convert the PIL Image to a tensor\n",
    "    transforms.Normalize((0.485, 0.456, 0.406),      # normalize image for pre-trained model\n",
    "                         (0.229, 0.224, 0.225))])\n",
    "# ---------------------------------------------------------------------------------------\n",
    "\n",
    "# Build data loader.\n",
    "data_loader = get_loader(transform=transform_train,\n",
    "                         mode='train',\n",
    "                         batch_size=batch_size,\n",
    "                         vocab_threshold=vocab_threshold,\n",
    "                         vocab_from_file=vocab_from_file)\n",
    "\n",
    "# The size of the vocabulary.\n",
    "vocab_size = len(data_loader.dataset.vocab)\n",
    "\n",
    "# Initialize the encoder and decoder. \n",
    "encoder = EncoderCNN(embed_size)\n",
    "decoder = DecoderRNN(embed_size, hidden_size, vocab_size, drop_prob =0.3)\n",
    "\n",
    "# Move models to GPU if CUDA is available. \n",
    "device = torch.device(\"cuda\" if torch.cuda.is_available() else \"cpu\")\n",
    "encoder.to(device)\n",
    "decoder.to(device)\n",
    "\n",
    "# Define the loss function. \n",
    "# criterion = nn.CrossEntropyLoss().cuda() if torch.cuda.is_available() else nn.CrossEntropyLoss()\n",
    "criterion = nn.SmoothL1Loss().cuda() if torch.cuda.is_available() else nn.SmoothL1Loss()\n",
    "\n",
    "# Learnable parameters of the model.\n",
    "params = list(decoder.parameters()) + list(encoder.embed.parameters()) \n",
    "\n",
    "# Adam optimizer. Default lr (0.001)\n",
    "optimizer = torch.optim.Adam(params, weight_decay=weight_decay)\n",
	"# https://arxiv.org/pdf/1512.03385.pdf\n",
    "# optimizer = torch.optim.SGD(params, lr=lr, momentum=momentum, weight_decay=weight_decay)\n",
    "\n",
    "# Learnable parameters of the model.\n",
    "params = list(decoder.parameters()) + list(encoder.embed.parameters()) \n"
   ]
  },
  {
   "cell_type": "markdown",
   "metadata": {},
   "source": [
    "<a id='step2'></a>\n",
    "## Step 2: Train your Model\n",
    "\n",
    "Once you have executed the code cell in **Step 1**, the training procedure below should run without issue.  \n",
    "\n",
    "It is completely fine to leave the code cell below as-is without modifications to train your model.  However, if you would like to modify the code used to train the model below, you must ensure that your changes are easily parsed by your reviewer.  In other words, make sure to provide appropriate comments to describe how your code works!  \n",
    "\n",
    "You may find it useful to load saved weights to resume training.  In that case, note the names of the files containing the encoder and decoder weights that you'd like to load (`encoder_file` and `decoder_file`).  Then you can load the weights by using the lines below:\n",
    "\n",
    "```python\n",
    "# Load pre-trained weights before resuming training.\n",
    "encoder.load_state_dict(torch.load(os.path.join('./models', encoder_file)))\n",
    "decoder.load_state_dict(torch.load(os.path.join('./models', decoder_file)))\n",
    "```\n",
    "\n",
    "While trying out parameters, make sure to take extensive notes and record the settings that you used in your various training runs.  In particular, you don't want to encounter a situation where you've trained a model for several hours but can't remember what settings you used :).\n",
    "\n",
    "### A Note on Tuning Hyperparameters\n",
    "\n",
    "To figure out how well your model is doing, you can look at how the training loss and perplexity evolve during training - and for the purposes of this project, you are encouraged to amend the hyperparameters based on this information.  \n",
    "\n",
    "However, this will not tell you if your model is overfitting to the training data, and, unfortunately, overfitting is a problem that is commonly encountered when training image captioning models.  \n",
    "\n",
    "For this project, you need not worry about overfitting. **This project does not have strict requirements regarding the performance of your model**, and you just need to demonstrate that your model has learned **_something_** when you generate captions on the test data.  For now, we strongly encourage you to train your model for the suggested 3 epochs without worrying about performance; then, you should immediately transition to the next notebook in the sequence (**3_Inference.ipynb**) to see how your model performs on the test data.  If your model needs to be changed, you can come back to this notebook, amend hyperparameters (if necessary), and re-train the model.\n",
    "\n",
    "That said, if you would like to go above and beyond in this project, you can read about some approaches to minimizing overfitting in section 4.3.1 of [this paper](http://ieeexplore.ieee.org/stamp/stamp.jsp?arnumber=7505636).  In the next (optional) step of this notebook, we provide some guidance for assessing the performance on the validation dataset."
   ]
  },
  {
   "cell_type": "code",
   "execution_count": 2,
   "metadata": {},
   "outputs": [
    {
     "name": "stdout",
     "output_type": "stream",
     "text": [
      "809\n",
      "Epoch [1/3], Step [100/809], Loss: 3.2157, Perplexity: 24.9217, Time: 6.532090\n",
      "Epoch [1/3], Step [200/809], Loss: 2.8951, Perplexity: 18.0850, Time: 6.2310\n",
      "Epoch [1/3], Step [300/809], Loss: 2.7177, Perplexity: 15.1448, Time: 6.2290\n",
      "Epoch [1/3], Step [400/809], Loss: 2.7032, Perplexity: 14.9276, Time: 6.2710\n",
      "Epoch [1/3], Step [500/809], Loss: 2.7304, Perplexity: 15.3393, Time: 6.24900\n",
      "Epoch [1/3], Step [600/809], Loss: 2.4272, Perplexity: 11.3269, Time: 6.2350\n",
      "Epoch [1/3], Step [700/809], Loss: 2.4065, Perplexity: 11.0953, Time: 6.2050\n",
      "Epoch [1/3], Step [800/809], Loss: 3.7228, Perplexity: 41.3798, Time: 6.1650\n",
      "Epoch [2/3], Step [100/809], Loss: 2.2821, Perplexity: 9.7971, Time: 6.22500\n",
      "Epoch [2/3], Step [200/809], Loss: 2.1449, Perplexity: 8.5411, Time: 6.26800\n",
      "Epoch [2/3], Step [300/809], Loss: 2.1797, Perplexity: 8.8435, Time: 6.11800\n",
      "Epoch [2/3], Step [400/809], Loss: 2.1094, Perplexity: 8.2432, Time: 5.95500\n",
      "Epoch [2/3], Step [500/809], Loss: 2.1292, Perplexity: 8.4080, Time: 6.25800\n",
      "Epoch [2/3], Step [600/809], Loss: 2.2645, Perplexity: 9.6263, Time: 6.00200\n",
      "Epoch [2/3], Step [700/809], Loss: 2.0220, Perplexity: 7.5533, Time: 5.96000\n",
      "Epoch [2/3], Step [800/809], Loss: 2.1130, Perplexity: 8.2730, Time: 6.27900\n",
      "Epoch [3/3], Step [100/809], Loss: 1.9761, Perplexity: 7.2147, Time: 6.13000\n",
      "Epoch [3/3], Step [200/809], Loss: 2.0058, Perplexity: 7.4319, Time: 6.14900\n",
      "Epoch [3/3], Step [300/809], Loss: 1.9146, Perplexity: 6.7841, Time: 6.18000\n",
      "Epoch [3/3], Step [400/809], Loss: 1.9875, Perplexity: 7.2976, Time: 6.06600\n",
      "Epoch [3/3], Step [500/809], Loss: 1.8722, Perplexity: 6.5027, Time: 6.10300\n",
      "Epoch [3/3], Step [600/809], Loss: 2.0586, Perplexity: 7.8353, Time: 6.20300\n",
      "Epoch [3/3], Step [700/809], Loss: 1.8529, Perplexity: 6.3784, Time: 6.34200\n",
      "Epoch [3/3], Step [800/809], Loss: 1.8918, Perplexity: 6.6315, Time: 6.07300\n",
      "Epoch [3/3], Step [809/809], Loss: 1.9377, Perplexity: 6.9430, Time: 5.9960"
     ]
    }
   ],
   "source": [
    "import torch.utils.data as data\n",
    "import numpy as np\n",
    "import os\n",
    "import requests\n",
    "import time\n",
    "import matplotlib.pyplot as plt \n",
    "\n",
    "# Open the training log file.\n",
    "f = open(log_file, 'w')\n",
    "\n",
    "old_time = time.time()\n",
    "response = requests.request(\"GET\", \n",
    "                            \"http://metadata.google.internal/computeMetadata/v1/instance/attributes/keep_alive_token\", \n",
    "                            headers={\"Metadata-Flavor\":\"Google\"})\n",
    "time_epochs = []\n",
    "loss_epochs = []\n",
    "start_batch = 0.0\n",
    "print(total_step)\n",
    "\n",
    "for epoch in range(1, num_epochs+1):\n",
    "    \n",
    "    start_epoch = int(round(time.time() * 1000))\n",
    "    \n",
    "    loss_epoch = 0.0\n",
    "    for i_step in range(1, total_step+1):\n",
    "        \n",
    "        start_time = int(round(time.time() * 1000))\n",
    "        \n",
    "        if time.time() - old_time > 60:\n",
    "            old_time = time.time()\n",
    "            requests.request(\"POST\", \n",
    "                             \"https://nebula.udacity.com/api/v1/remote/keep-alive\", \n",
    "                             headers={'Authorization': \"STAR \" + response.text})\n",
    "        \n",
    "        # Randomly sample a caption length, and sample indices with that length.\n",
    "        indices = data_loader.dataset.get_train_indices()\n",
    "        # Create and assign a batch sampler to retrieve a batch with the sampled indices.\n",
    "        new_sampler = data.sampler.SubsetRandomSampler(indices=indices)\n",
    "        data_loader.batch_sampler.sampler = new_sampler\n",
    "        \n",
    "        # Obtain the batch.\n",
    "        images, captions = next(iter(data_loader))\n",
    "\n",
    "        # Move batch of images and captions to GPU if CUDA is available.\n",
    "        images = images.to(device)\n",
    "        captions = captions.to(device)\n",
    "        \n",
    "        # Zero the gradients.\n",
    "        decoder.zero_grad()\n",
    "        encoder.zero_grad()\n",
    "        \n",
    "        # Pass the inputs through the CNN-RNN model.\n",
    "        features = encoder(images)\n",
    "        outputs = decoder(features, captions)\n",
    "        \n",
    "        # Calculate the batch loss.\n",
    "        loss = criterion(outputs.view(-1, vocab_size), captions.view(-1))\n",
    "        \n",
    "        # Backward pass.\n",
    "        loss.backward()\n",
    "        \n",
    "        # Update the parameters in the optimizer.\n",
    "        optimizer.step()\n",
    "        \n",
    "        end_batch = (int(round(time.time() * 1000)) - start_time)/1000 \n",
    "        # Get training statistics.\n",
    "        stats = 'Epoch [%d/%d], Step [%d/%d], Loss: %.4f, Perplexity: %5.4f, Time: %.4f' % (epoch, num_epochs, i_step, total_step, loss.item(), np.exp(loss.item()), end_batch)\n",
    "        \n",
    "        # Print training statistics (on same line).\n",
    "        print('\\r' + stats, end=\"\")\n",
    "        sys.stdout.flush()\n",
    "        \n",
    "        # Print training statistics to file.\n",
    "        f.write(stats + '\\n')\n",
    "        f.flush()\n",
    "        \n",
    "        # Print training statistics (on different line).\n",
    "        if i_step % print_every == 0:\n",
    "            print('\\r' + stats)\n",
    "        loss_epoch += loss.item()\n",
    "        \n",
    "    end_epoch = (int(round(time.time() * 1000)) - start_epoch)/1000\n",
    "    loss_epoch = (loss_epoch/total_step)\n",
    "    time_epochs.append(end_epoch)\n",
    "    loss_epochs.append(loss_epoch)\n",
    "    \n",
    "    # Save the weights.\n",
    "    if epoch % save_every == 0:\n",
    "        torch.save(decoder.state_dict(), os.path.join('./models', 'decoder-%d.pkl' % epoch))\n",
    "        torch.save(encoder.state_dict(), os.path.join('./models', 'encoder-%d.pkl' % epoch))\n",
    "# Close the training log file.\n",
    "f.close()"
   ]
  },
  {
   "cell_type": "code",
   "execution_count": 3,
   "metadata": {},
   "outputs": [
    {
     "data": {
      "image/png": "[encoded data removed]",
      "text/plain": [
       "<matplotlib.figure.Figure at 0x7fcb1aa9b710>"
      ]
     },
     "metadata": {
      "needs_background": "light"
     },
     "output_type": "display_data"
    }
   ],
   "source": [
    "ymin_loss = min([min(i) for i in loss_epochs])\n",
    "ymin_loss = ymin_loss -0.05*ymin_loss\n",
    "ymax_loss = max([max(i) for i in loss_epochs])\n",
    "ymin_loss = ymin_loss -0.05*ymin_loss\n",
    "\n",
    "plt.plot(loss_epochs)\n",
    "plt.xlabel('over epoch(s)')\n",
    "plt.ylabel('loss')\n",
    "plt.ylim(ymin_loss, ymax_loss) \n",
    "plt.show() "
   ]
  },
  {
   "cell_type": "code",
   "execution_count": 9,
   "metadata": {},
   "outputs": [
    {
     "name": "stdout",
     "output_type": "stream",
     "text": [
      "[8526.235, 8362.473, 8354.169]\n"
     ]
    },
    {
     "data": {
      "image/png": "[encoded data removed]",
      "text/plain": [
       "<matplotlib.figure.Figure at 0x7fcb0e102b00>"
      ]
     },
     "metadata": {
      "needs_background": "light"
     },
     "output_type": "display_data"
    }
   ],
   "source": [
    "ymin_time = min([min(i) for i in time_epochs])\n",
    "ymin_loss = ymin_time -0.05*ymin_time\n",
    "ymax_time = max([max(i) for i in time_epochs])\n",
    "ymin_loss = ymax_time -0.05*ymax_time\n",
    "\n",
    "print(time_epochs)\n",
    "plt.plot(time_epochs)\n",
    "plt.xlabel('over epoch(s)')\n",
    "plt.ylabel('run time')\n",
    "plt.ylim(ymin_time, ymax_time) \n",
    "plt.show()"
   ]
  },
  {
   "cell_type": "markdown",
   "metadata": {},
   "source": [
    "<a id='step3'></a>\n",
    "## Step 3: (Optional) Validate your Model\n",
    "\n",
    "To assess potential overfitting, one approach is to assess performance on a validation set.  If you decide to do this **optional** task, you are required to first complete all of the steps in the next notebook in the sequence (**3_Inference.ipynb**); as part of that notebook, you will write and test code (specifically, the `sample` method in the `DecoderRNN` class) that uses your RNN decoder to generate captions.  That code will prove incredibly useful here. \n",
    "\n",
    "If you decide to validate your model, please do not edit the data loader in **data_loader.py**.  Instead, create a new file named **data_loader_val.py** containing the code for obtaining the data loader for the validation data.  You can access:\n",
    "- the validation images at filepath `'/opt/cocoapi/images/train2014/'`, and\n",
    "- the validation image caption annotation file at filepath `'/opt/cocoapi/annotations/captions_val2014.json'`.\n",
    "\n",
    "The suggested approach to validating your model involves creating a json file such as [this one](https://github.com/cocodataset/cocoapi/blob/master/results/captions_val2014_fakecap_results.json) containing your model's predicted captions for the validation images.  Then, you can write your own script or use one that you [find online](https://github.com/tylin/coco-caption) to calculate the BLEU score of your model.  You can read more about the BLEU score, along with other evaluation metrics (such as TEOR and Cider) in section 4.1 of [this paper](https://arxiv.org/pdf/1411.4555.pdf).  For more information about how to use the annotation file, check out the [website](http://cocodataset.org/#download) for the COCO dataset."
   ]
  },
  {
   "cell_type": "code",
   "execution_count": null,
   "metadata": {},
   "outputs": [],
   "source": [
    "# Load new library\n",
    "from data_loader_val import get_loader_val\n",
    "import numpy as np\n",
    "import matplotlib.pyplot as plt\n",
    "%matplotlib inline\n",
    "import sys\n",
    "sys.path.append('/opt/cocoapi/PythonAPI')\n",
    "from pycocotools.coco import COCO\n",
    "from torchvision import transforms\n",
    "from nltk.translate.bleu_score import sentence_bleu\n",
    "from nltk.tokenize import word_tokenize\n",
    "\n",
    "transform_val = transforms.Compose([ \n",
    "    transforms.Resize([224, 224]),                   # smaller edge of image resized to 256\n",
    "    transforms.ToTensor(),                           # convert the PIL Image to a tensor\n",
    "    transforms.Normalize((0.485, 0.456, 0.406),      # normalize image for pre-trained model\n",
    "                         (0.229, 0.224, 0.225))])\n",
    "\n",
    "\n",
    "\n",
    "data_loader_val = get_loader_val(transform=transform_val, mode='val')\n",
    "\n",
    "\n",
    "orig_image, image_val, caption_val = next(iter(data_loader_val))"
   ]
  },
  {
   "cell_type": "code",
   "execution_count": null,
   "metadata": {},
   "outputs": [],
   "source": [
    "# Match the list of integers to the predicted sentence\n",
    "def clean_sentence(output):\n",
    "    vocab = data_loader_val.dataset.vocab.idx2word\n",
    "    words = [data_loader_val.dataset.vocab.idx2word[x] for x in output]\n",
    "    sentence =  ' '.join(words[1:-1])   \n",
    "\n",
    "    return sentence\n",
    "\n",
    "\n",
    "def calculate_scores(caption, pred_caption):\n",
    "    caption_tokens = word_tokenize(caption)\n",
    "    pred_caption_tokens = word_tokenize(pred_caption)\n",
    "    score = sentence_bleu(caption_tokens, pred_caption_tokens, weights=(1, 0, 0, 0))\n",
    "    print('BLEU_1: Cumulative 1-gram: %f' % score)\n",
    "    print('BLEU_2: Cumulative 2-gram: %f' % sentence_bleu(caption_tokens, pred_caption_tokens, weights=(0.5, 0.5, 0, 0)))\n",
    "    print('BLEU_3: Cumulative 3-gram: %f' % sentence_bleu(caption_tokens, pred_caption_tokens, weights=(0.33, 0.33, 0.33, 0)))\n",
    "    print('BLEU_4: Cumulative 4-gram: %f' % sentence_bleu(caption_tokens, pred_caption_tokens, weights=(0.25, 0.25, 0.25, 0.25)))\n",
    "    return score"
   ]
  },
  {
   "cell_type": "code",
   "execution_count": null,
   "metadata": {},
   "outputs": [],
   "source": [
    "encoder.eval()\n",
    "decoder.eval()\n",
    "\n",
    "\n",
    "def get_prediction():\n",
    "    orig_image, image, caption = next(iter(data_loader_val))\n",
    "    plt.imshow(np.squeeze(orig_image))\n",
    "    plt.title('Validate sample Image')\n",
    "    plt.show()\n",
    "    image = image.to(device)\n",
    "    print(image.shape)\n",
    "    features = encoder(image).unsqueeze(1)\n",
    "    print(features.shape)\n",
    "    output = decoder.sample(features)    \n",
    "    sentence = clean_sentence(output)\n",
    "    caption = caption[0]\n",
    "    print('Original caption: ',  caption)\n",
    "    print('Generated caption: ', sentence)\n",
    "    score = calculate_scores(caption, sentence)\n",
    "    print(sentence)\n"
   ]
  },
  {
   "cell_type": "code",
   "execution_count": null,
   "metadata": {},
   "outputs": [],
   "source": [
    "get_prediction()"
   ]
  },
  {
   "cell_type": "code",
   "execution_count": null,
   "metadata": {},
   "outputs": [],
   "source": []
  }
 ],
 "metadata": {
  "anaconda-cloud": {},
  "kernelspec": {
   "display_name": "Python 3",
   "language": "python",
   "name": "python3"
  },
  "language_info": {
   "codemirror_mode": {
    "name": "ipython",
    "version": 3
   },
   "file_extension": ".py",
   "mimetype": "text/x-python",
   "name": "python",
   "nbconvert_exporter": "python",
   "pygments_lexer": "ipython3",
   "version": "3.6.3"
  }
 },
 "nbformat": 4,
 "nbformat_minor": 2
}

